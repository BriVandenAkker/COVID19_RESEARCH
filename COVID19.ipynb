{
 "cells": [
  {
   "cell_type": "code",
   "execution_count": 34,
   "metadata": {},
   "outputs": [],
   "source": [
    "import pandas as pd\n",
    "import numpy as np\n",
    "import os\n",
    "import json\n",
    "import glob\n",
    "from scipy import stats\n",
    "import matplotlib.pyplot as plt\n",
    "import spacy\n",
    "from sklearn.metrics import mean_squared_error\n",
    "from math import sqrt\n",
    "from operator import itemgetter\n",
    "from yellowbrick.text import TSNEVisualizer\n",
    "import pickle"
   ]
  },
  {
   "cell_type": "markdown",
   "metadata": {},
   "source": [
    "# Download data from Kaggle and load"
   ]
  },
  {
   "cell_type": "code",
   "execution_count": 2,
   "metadata": {},
   "outputs": [
    {
     "data": {
      "text/html": [
       "<div>\n",
       "<style scoped>\n",
       "    .dataframe tbody tr th:only-of-type {\n",
       "        vertical-align: middle;\n",
       "    }\n",
       "\n",
       "    .dataframe tbody tr th {\n",
       "        vertical-align: top;\n",
       "    }\n",
       "\n",
       "    .dataframe thead th {\n",
       "        text-align: right;\n",
       "    }\n",
       "</style>\n",
       "<table border=\"1\" class=\"dataframe\">\n",
       "  <thead>\n",
       "    <tr style=\"text-align: right;\">\n",
       "      <th></th>\n",
       "      <th>cord_uid</th>\n",
       "      <th>sha</th>\n",
       "      <th>source_x</th>\n",
       "      <th>title</th>\n",
       "      <th>doi</th>\n",
       "      <th>pmcid</th>\n",
       "      <th>pubmed_id</th>\n",
       "      <th>license</th>\n",
       "      <th>abstract</th>\n",
       "      <th>publish_time</th>\n",
       "      <th>authors</th>\n",
       "      <th>journal</th>\n",
       "      <th>Microsoft Academic Paper ID</th>\n",
       "      <th>WHO #Covidence</th>\n",
       "      <th>has_pdf_parse</th>\n",
       "      <th>has_pmc_xml_parse</th>\n",
       "      <th>full_text_file</th>\n",
       "      <th>url</th>\n",
       "    </tr>\n",
       "  </thead>\n",
       "  <tbody>\n",
       "    <tr>\n",
       "      <th>0</th>\n",
       "      <td>xqhn0vbp</td>\n",
       "      <td>1e1286db212100993d03cc22374b624f7caee956</td>\n",
       "      <td>PMC</td>\n",
       "      <td>Airborne rhinovirus detection and effect of ul...</td>\n",
       "      <td>10.1186/1471-2458-3-5</td>\n",
       "      <td>PMC140314</td>\n",
       "      <td>12525263.0</td>\n",
       "      <td>no-cc</td>\n",
       "      <td>BACKGROUND: Rhinovirus, the most common cause ...</td>\n",
       "      <td>2003-01-13</td>\n",
       "      <td>Myatt, Theodore A; Johnston, Sebastian L; Rudn...</td>\n",
       "      <td>BMC Public Health</td>\n",
       "      <td>NaN</td>\n",
       "      <td>NaN</td>\n",
       "      <td>True</td>\n",
       "      <td>True</td>\n",
       "      <td>custom_license</td>\n",
       "      <td>https://www.ncbi.nlm.nih.gov/pmc/articles/PMC1...</td>\n",
       "    </tr>\n",
       "    <tr>\n",
       "      <th>1</th>\n",
       "      <td>gi6uaa83</td>\n",
       "      <td>8ae137c8da1607b3a8e4c946c07ca8bda67f88ac</td>\n",
       "      <td>PMC</td>\n",
       "      <td>Discovering human history from stomach bacteria</td>\n",
       "      <td>10.1186/gb-2003-4-5-213</td>\n",
       "      <td>PMC156578</td>\n",
       "      <td>12734001.0</td>\n",
       "      <td>no-cc</td>\n",
       "      <td>Recent analyses of human pathogens have reveal...</td>\n",
       "      <td>2003-04-28</td>\n",
       "      <td>Disotell, Todd R</td>\n",
       "      <td>Genome Biol</td>\n",
       "      <td>NaN</td>\n",
       "      <td>NaN</td>\n",
       "      <td>True</td>\n",
       "      <td>True</td>\n",
       "      <td>custom_license</td>\n",
       "      <td>https://www.ncbi.nlm.nih.gov/pmc/articles/PMC1...</td>\n",
       "    </tr>\n",
       "    <tr>\n",
       "      <th>2</th>\n",
       "      <td>le0ogx1s</td>\n",
       "      <td>NaN</td>\n",
       "      <td>PMC</td>\n",
       "      <td>A new recruit for the army of the men of death</td>\n",
       "      <td>10.1186/gb-2003-4-7-113</td>\n",
       "      <td>PMC193621</td>\n",
       "      <td>12844350.0</td>\n",
       "      <td>no-cc</td>\n",
       "      <td>The army of the men of death, in John Bunyan's...</td>\n",
       "      <td>2003-06-27</td>\n",
       "      <td>Petsko, Gregory A</td>\n",
       "      <td>Genome Biol</td>\n",
       "      <td>NaN</td>\n",
       "      <td>NaN</td>\n",
       "      <td>False</td>\n",
       "      <td>True</td>\n",
       "      <td>custom_license</td>\n",
       "      <td>https://www.ncbi.nlm.nih.gov/pmc/articles/PMC1...</td>\n",
       "    </tr>\n",
       "    <tr>\n",
       "      <th>3</th>\n",
       "      <td>fy4w7xz8</td>\n",
       "      <td>0104f6ceccf92ae8567a0102f89cbb976969a774</td>\n",
       "      <td>PMC</td>\n",
       "      <td>Association of HLA class I with severe acute r...</td>\n",
       "      <td>10.1186/1471-2350-4-9</td>\n",
       "      <td>PMC212558</td>\n",
       "      <td>12969506.0</td>\n",
       "      <td>no-cc</td>\n",
       "      <td>BACKGROUND: The human leukocyte antigen (HLA) ...</td>\n",
       "      <td>2003-09-12</td>\n",
       "      <td>Lin, Marie; Tseng, Hsiang-Kuang; Trejaut, Jean...</td>\n",
       "      <td>BMC Med Genet</td>\n",
       "      <td>NaN</td>\n",
       "      <td>NaN</td>\n",
       "      <td>True</td>\n",
       "      <td>True</td>\n",
       "      <td>custom_license</td>\n",
       "      <td>https://www.ncbi.nlm.nih.gov/pmc/articles/PMC2...</td>\n",
       "    </tr>\n",
       "    <tr>\n",
       "      <th>4</th>\n",
       "      <td>0qaoam29</td>\n",
       "      <td>5b68a553a7cbbea13472721cd1ad617d42b40c26</td>\n",
       "      <td>PMC</td>\n",
       "      <td>A double epidemic model for the SARS propagation</td>\n",
       "      <td>10.1186/1471-2334-3-19</td>\n",
       "      <td>PMC222908</td>\n",
       "      <td>12964944.0</td>\n",
       "      <td>no-cc</td>\n",
       "      <td>BACKGROUND: An epidemic of a Severe Acute Resp...</td>\n",
       "      <td>2003-09-10</td>\n",
       "      <td>Ng, Tuen Wai; Turinici, Gabriel; Danchin, Antoine</td>\n",
       "      <td>BMC Infect Dis</td>\n",
       "      <td>NaN</td>\n",
       "      <td>NaN</td>\n",
       "      <td>True</td>\n",
       "      <td>True</td>\n",
       "      <td>custom_license</td>\n",
       "      <td>https://www.ncbi.nlm.nih.gov/pmc/articles/PMC2...</td>\n",
       "    </tr>\n",
       "  </tbody>\n",
       "</table>\n",
       "</div>"
      ],
      "text/plain": [
       "   cord_uid                                       sha source_x  \\\n",
       "0  xqhn0vbp  1e1286db212100993d03cc22374b624f7caee956      PMC   \n",
       "1  gi6uaa83  8ae137c8da1607b3a8e4c946c07ca8bda67f88ac      PMC   \n",
       "2  le0ogx1s                                       NaN      PMC   \n",
       "3  fy4w7xz8  0104f6ceccf92ae8567a0102f89cbb976969a774      PMC   \n",
       "4  0qaoam29  5b68a553a7cbbea13472721cd1ad617d42b40c26      PMC   \n",
       "\n",
       "                                               title                      doi  \\\n",
       "0  Airborne rhinovirus detection and effect of ul...    10.1186/1471-2458-3-5   \n",
       "1    Discovering human history from stomach bacteria  10.1186/gb-2003-4-5-213   \n",
       "2     A new recruit for the army of the men of death  10.1186/gb-2003-4-7-113   \n",
       "3  Association of HLA class I with severe acute r...    10.1186/1471-2350-4-9   \n",
       "4   A double epidemic model for the SARS propagation   10.1186/1471-2334-3-19   \n",
       "\n",
       "       pmcid   pubmed_id license  \\\n",
       "0  PMC140314  12525263.0   no-cc   \n",
       "1  PMC156578  12734001.0   no-cc   \n",
       "2  PMC193621  12844350.0   no-cc   \n",
       "3  PMC212558  12969506.0   no-cc   \n",
       "4  PMC222908  12964944.0   no-cc   \n",
       "\n",
       "                                            abstract publish_time  \\\n",
       "0  BACKGROUND: Rhinovirus, the most common cause ...   2003-01-13   \n",
       "1  Recent analyses of human pathogens have reveal...   2003-04-28   \n",
       "2  The army of the men of death, in John Bunyan's...   2003-06-27   \n",
       "3  BACKGROUND: The human leukocyte antigen (HLA) ...   2003-09-12   \n",
       "4  BACKGROUND: An epidemic of a Severe Acute Resp...   2003-09-10   \n",
       "\n",
       "                                             authors            journal  \\\n",
       "0  Myatt, Theodore A; Johnston, Sebastian L; Rudn...  BMC Public Health   \n",
       "1                                   Disotell, Todd R        Genome Biol   \n",
       "2                                  Petsko, Gregory A        Genome Biol   \n",
       "3  Lin, Marie; Tseng, Hsiang-Kuang; Trejaut, Jean...      BMC Med Genet   \n",
       "4  Ng, Tuen Wai; Turinici, Gabriel; Danchin, Antoine     BMC Infect Dis   \n",
       "\n",
       "   Microsoft Academic Paper ID WHO #Covidence  has_pdf_parse  \\\n",
       "0                          NaN            NaN           True   \n",
       "1                          NaN            NaN           True   \n",
       "2                          NaN            NaN          False   \n",
       "3                          NaN            NaN           True   \n",
       "4                          NaN            NaN           True   \n",
       "\n",
       "   has_pmc_xml_parse  full_text_file  \\\n",
       "0               True  custom_license   \n",
       "1               True  custom_license   \n",
       "2               True  custom_license   \n",
       "3               True  custom_license   \n",
       "4               True  custom_license   \n",
       "\n",
       "                                                 url  \n",
       "0  https://www.ncbi.nlm.nih.gov/pmc/articles/PMC1...  \n",
       "1  https://www.ncbi.nlm.nih.gov/pmc/articles/PMC1...  \n",
       "2  https://www.ncbi.nlm.nih.gov/pmc/articles/PMC1...  \n",
       "3  https://www.ncbi.nlm.nih.gov/pmc/articles/PMC2...  \n",
       "4  https://www.ncbi.nlm.nih.gov/pmc/articles/PMC2...  "
      ]
     },
     "execution_count": 2,
     "metadata": {},
     "output_type": "execute_result"
    }
   ],
   "source": [
    "root = 'C:/Users/brian/Documents/GitHub/COVID19_RESEARCH/data'\n",
    "meta_path = os.path.join(root, 'metadata.csv')\n",
    "\n",
    "meta_df = pd.read_csv(meta_path)\n",
    "meta_df.head()"
   ]
  },
  {
   "cell_type": "markdown",
   "metadata": {},
   "source": [
    "# Clean the data for processing"
   ]
  },
  {
   "cell_type": "code",
   "execution_count": 3,
   "metadata": {},
   "outputs": [
    {
     "data": {
      "text/plain": [
       "(52398, 18)"
      ]
     },
     "execution_count": 3,
     "metadata": {},
     "output_type": "execute_result"
    }
   ],
   "source": [
    "meta_df.shape"
   ]
  },
  {
   "cell_type": "code",
   "execution_count": 4,
   "metadata": {},
   "outputs": [
    {
     "data": {
      "text/plain": [
       "cord_uid           0\n",
       "title            158\n",
       "abstract        9230\n",
       "publish_time       8\n",
       "authors         2279\n",
       "url              302\n",
       "dtype: int64"
      ]
     },
     "execution_count": 4,
     "metadata": {},
     "output_type": "execute_result"
    }
   ],
   "source": [
    "meta_df = meta_df[['cord_uid', 'title', 'abstract', 'publish_time', 'authors', 'url']]\n",
    "meta_df.isnull().sum()"
   ]
  },
  {
   "cell_type": "code",
   "execution_count": 5,
   "metadata": {},
   "outputs": [
    {
     "data": {
      "text/plain": [
       "(43019, 6)"
      ]
     },
     "execution_count": 5,
     "metadata": {},
     "output_type": "execute_result"
    }
   ],
   "source": [
    "meta_df = meta_df.dropna(subset=['title', 'abstract'])\n",
    "meta_df.shape"
   ]
  },
  {
   "cell_type": "code",
   "execution_count": 6,
   "metadata": {},
   "outputs": [
    {
     "data": {
      "text/plain": [
       "[Empty DataFrame\n",
       " Columns: [cord_uid, title, abstract, publish_time, authors, url]\n",
       " Index: [], Empty DataFrame\n",
       " Columns: [cord_uid, title, abstract, publish_time, authors, url]\n",
       " Index: [], Empty DataFrame\n",
       " Columns: [cord_uid, title, abstract, publish_time, authors, url]\n",
       " Index: [], Empty DataFrame\n",
       " Columns: [cord_uid, title, abstract, publish_time, authors, url]\n",
       " Index: []]"
      ]
     },
     "execution_count": 6,
     "metadata": {},
     "output_type": "execute_result"
    }
   ],
   "source": [
    "check_duplicates = ['cord_uid','title', 'abstract', 'authors']\n",
    "\n",
    "for head in check_duplicates:\n",
    "    meta_df = meta_df.drop(meta_df[meta_df[f'{head}'].duplicated()].index)\n",
    "\n",
    "#Check duplicates are empty\n",
    "[(meta_df[meta_df[f'{head}'].duplicated()]) for head in check_duplicates]\n"
   ]
  },
  {
   "cell_type": "code",
   "execution_count": 7,
   "metadata": {},
   "outputs": [
    {
     "data": {
      "text/plain": [
       "(41125, 6)"
      ]
     },
     "execution_count": 7,
     "metadata": {},
     "output_type": "execute_result"
    }
   ],
   "source": [
    "meta_df.shape"
   ]
  },
  {
   "cell_type": "code",
   "execution_count": 8,
   "metadata": {},
   "outputs": [],
   "source": [
    "text = meta_df"
   ]
  },
  {
   "cell_type": "code",
   "execution_count": 9,
   "metadata": {},
   "outputs": [],
   "source": [
    "index, value = zip(*[(index, len(val)) for index, val in enumerate(text['abstract'])])\n",
    "docs_length= pd.Series(value, index)                      "
   ]
  },
  {
   "cell_type": "code",
   "execution_count": 10,
   "metadata": {},
   "outputs": [
    {
     "data": {
      "text/plain": [
       "Text(0, 0.5, 'Frequency')"
      ]
     },
     "execution_count": 10,
     "metadata": {},
     "output_type": "execute_result"
    },
    {
     "data": {
      "image/png": "[encoded data removed]",
      "text/plain": [
       "<Figure size 1440x360 with 1 Axes>"
      ]
     },
     "metadata": {
      "needs_background": "light"
     },
     "output_type": "display_data"
    }
   ],
   "source": [
    "doc_length = docs_length.plot(kind = 'hist', title = 'Histogram: Abstract Length', colormap='jet', figsize =(20,5))\n",
    "doc_length.set_xlabel(\"Abstract Word Count\")\n",
    "doc_length.set_ylabel(\"Frequency\")"
   ]
  },
  {
   "cell_type": "code",
   "execution_count": 11,
   "metadata": {},
   "outputs": [],
   "source": [
    "z_scores = np.abs(stats.zscore(docs_length))\n",
    "filtered_entries = (z_scores <= 4)\n",
    "outliers = (z_scores > 4)\n",
    "outliers_text = text[outliers]\n",
    "docs_length = docs_length[filtered_entries]"
   ]
  },
  {
   "cell_type": "code",
   "execution_count": 12,
   "metadata": {},
   "outputs": [
    {
     "data": {
      "text/plain": [
       "Text(0, 0.5, 'Frequency')"
      ]
     },
     "execution_count": 12,
     "metadata": {},
     "output_type": "execute_result"
    },
    {
     "data": {
      "image/png": "[encoded data removed]",
      "text/plain": [
       "<Figure size 1440x360 with 1 Axes>"
      ]
     },
     "metadata": {
      "needs_background": "light"
     },
     "output_type": "display_data"
    }
   ],
   "source": [
    "doc_length = docs_length.plot(kind = 'hist', title = 'Histogram: Abstract Length, minus outliers', colormap='jet', figsize =(20,5))\n",
    "doc_length.set_xlabel(\"Abstract Word Count\")\n",
    "doc_length.set_ylabel(\"Frequency\")"
   ]
  },
  {
   "cell_type": "code",
   "execution_count": 13,
   "metadata": {},
   "outputs": [
    {
     "name": "stdout",
     "output_type": "stream",
     "text": [
      "41099\n"
     ]
    }
   ],
   "source": [
    "text = text[filtered_entries]\n",
    "print(len(text))"
   ]
  },
  {
   "cell_type": "markdown",
   "metadata": {},
   "source": [
    "# Lemmatization/Stop word Reduction"
   ]
  },
  {
   "cell_type": "code",
   "execution_count": 14,
   "metadata": {},
   "outputs": [],
   "source": [
    "nlp = spacy.load('en_core_web_lg', disable=['tagger','parser','ner'])"
   ]
  },
  {
   "cell_type": "code",
   "execution_count": 15,
   "metadata": {},
   "outputs": [],
   "source": [
    "def tokenizer(sentence):\n",
    "    return [word.lemma_ for word in nlp(sentence) if not (word.like_num or word.is_stop or len(word)==1)]"
   ]
  },
  {
   "cell_type": "markdown",
   "metadata": {},
   "source": [
    "# Vectorize"
   ]
  },
  {
   "cell_type": "code",
   "execution_count": 16,
   "metadata": {},
   "outputs": [],
   "source": [
    "from sklearn.feature_extraction.text import CountVectorizer"
   ]
  },
  {
   "cell_type": "code",
   "execution_count": 17,
   "metadata": {},
   "outputs": [],
   "source": [
    "vec = CountVectorizer(tokenizer = tokenizer, max_df=0.80, min_df=3)"
   ]
  },
  {
   "cell_type": "code",
   "execution_count": 35,
   "metadata": {},
   "outputs": [],
   "source": [
    "pickle.dump(vec.vocabulary_,open(\"model/feature.pkl\",\"wb\"))"
   ]
  },
  {
   "cell_type": "code",
   "execution_count": 18,
   "metadata": {},
   "outputs": [],
   "source": [
    "cv = vec.fit_transform(text['abstract'])"
   ]
  },
  {
   "cell_type": "markdown",
   "metadata": {},
   "source": [
    "# Latent Dirichlet Allocation"
   ]
  },
  {
   "cell_type": "code",
   "execution_count": 19,
   "metadata": {},
   "outputs": [],
   "source": [
    "from sklearn.decomposition import LatentDirichletAllocation"
   ]
  },
  {
   "cell_type": "code",
   "execution_count": 20,
   "metadata": {},
   "outputs": [],
   "source": [
    "n_components = 20\n",
    "lda = LatentDirichletAllocation(n_components=n_components,random_state=42)"
   ]
  },
  {
   "cell_type": "code",
   "execution_count": 21,
   "metadata": {},
   "outputs": [],
   "source": [
    "lda = lda.fit(cv)\n",
    "lda_doc_dist = lda.transform(cv)"
   ]
  },
  {
   "cell_type": "code",
   "execution_count": 38,
   "metadata": {},
   "outputs": [],
   "source": [
    "pickle.dump(lda, open(\"model/lda_model.pkl\", \"wb\"))"
   ]
  },
  {
   "cell_type": "code",
   "execution_count": 22,
   "metadata": {},
   "outputs": [],
   "source": [
    "def plot_doc(doc):\n",
    "    index, value = zip(*[(index, val) for index, val in enumerate(lda_doc_dist[doc])])\n",
    "    doc_topic_plot = pd.Series(value, index)\n",
    "    return doc_topic_plot"
   ]
  },
  {
   "cell_type": "code",
   "execution_count": 23,
   "metadata": {},
   "outputs": [
    {
     "data": {
      "text/plain": [
       "Text(0, 0.5, 'Topic Proportion')"
      ]
     },
     "execution_count": 23,
     "metadata": {},
     "output_type": "execute_result"
    },
    {
     "data": {
      "image/png": "[encoded data removed]",
      "text/plain": [
       "<Figure size 1440x360 with 1 Axes>"
      ]
     },
     "metadata": {
      "needs_background": "light"
     },
     "output_type": "display_data"
    }
   ],
   "source": [
    "doc = 42\n",
    "topic_dist_chart = plot_doc(doc).plot(kind = 'bar', title = 'Distribution of Topics over Document', colormap='jet', figsize =(20,5))\n",
    "topic_dist_chart.set_xlabel(\"Topic Number\")\n",
    "topic_dist_chart.set_ylabel(\"Topic Proportion\")"
   ]
  },
  {
   "cell_type": "code",
   "execution_count": 24,
   "metadata": {},
   "outputs": [
    {
     "name": "stderr",
     "output_type": "stream",
     "text": [
      "C:\\Users\\brian\\Anaconda3\\lib\\site-packages\\ipykernel_launcher.py:1: SettingWithCopyWarning: \n",
      "A value is trying to be set on a copy of a slice from a DataFrame.\n",
      "Try using .loc[row_indexer,col_indexer] = value instead\n",
      "\n",
      "See the caveats in the documentation: http://pandas.pydata.org/pandas-docs/stable/indexing.html#indexing-view-versus-copy\n",
      "  \"\"\"Entry point for launching an IPython kernel.\n"
     ]
    }
   ],
   "source": [
    "text['topic_dist'] = lda_doc_dist.tolist()"
   ]
  },
  {
   "cell_type": "code",
   "execution_count": 25,
   "metadata": {},
   "outputs": [],
   "source": [
    "text.to_csv('data/covid_papers.csv')"
   ]
  },
  {
   "cell_type": "markdown",
   "metadata": {},
   "source": [
    "# to similar texts for existing or non-existing texts in the data\n"
   ]
  },
  {
   "cell_type": "code",
   "execution_count": 26,
   "metadata": {},
   "outputs": [],
   "source": [
    "new_text = ['this is a sample abstract for the coronavirus text data.']"
   ]
  },
  {
   "cell_type": "code",
   "execution_count": 27,
   "metadata": {},
   "outputs": [],
   "source": [
    "def similar_text(text_to_compare, n_articles = 10):\n",
    "    store_vals = list()\n",
    "    if(isinstance(text_to_compare, list) and len(text_to_compare) is 1):\n",
    "        new_vec = vec.transform(text_to_compare)\n",
    "        topic_dist = list(lda.transform(new_vec)[0])\n",
    "    elif(isinstance(text_to_compare, int)):\n",
    "        topic_dist = text.loc[text_to_compare, 'topic_dist']\n",
    "    else:\n",
    "        raise ValueError\n",
    "    \n",
    "    for i in range(len(text)):\n",
    "        if(i in text.index):\n",
    "            store_vals.append((i, (sqrt(mean_squared_error(topic_dist, text.loc[i, 'topic_dist'])))))\n",
    "    most_similar = sorted(store_vals, key=itemgetter(1))\n",
    "    return [text.loc[i[0]] for i in most_similar[1:n_articles+1]]"
   ]
  },
  {
   "cell_type": "code",
   "execution_count": 28,
   "metadata": {},
   "outputs": [
    {
     "data": {
      "text/plain": [
       "[cord_uid                                                 4cc2myhl\n",
       " title           Molecular detection and characterization of hu...\n",
       " abstract        The recently described novel gyroviruses may i...\n",
       " publish_time                                           2014-08-14\n",
       " authors         Fehér, Enikő; Pazár, Péter; Kovács, Eszter; Fa...\n",
       " url             https://www.ncbi.nlm.nih.gov/pmc/articles/PMC7...\n",
       " topic_dist      [0.0008333333515386059, 0.0008333333404027189,...\n",
       " Name: 12876, dtype: object,\n",
       " cord_uid                                                 55lt9pkc\n",
       " title           Cross-Species Transmission in the Speciation o...\n",
       " abstract        To gain more insight into the phylogeny of Dab...\n",
       " publish_time                                           2012-08-01\n",
       " authors         Lin, Xian-Dan; Wang, Wen; Guo, Wen-Ping; Zhang...\n",
       " url             https://jvi.asm.org/content/jvi/86/20/11171.fu...\n",
       " topic_dist      [0.0004761904825880107, 0.0004761904814272242,...\n",
       " Name: 22160, dtype: object,\n",
       " cord_uid                                                 alyn1i00\n",
       " title           Discovery and Genomic Characterization of a No...\n",
       " abstract        Sapovirus is a genus of caliciviruses that are...\n",
       " publish_time                                           2012-04-13\n",
       " authors         Tse, Herman; Chan, Wan-Mui; Li, Kenneth S. M.;...\n",
       " url             https://www.ncbi.nlm.nih.gov/pmc/articles/PMC3...\n",
       " topic_dist      [0.00037037037602639846, 0.00037037037425442, ...\n",
       " Name: 2339, dtype: object,\n",
       " cord_uid                                                 xbpko2bt\n",
       " title           Fugong virus, a novel hantavirus harbored by t...\n",
       " abstract        BACKGROUND: Rodents are natural reservoirs of ...\n",
       " publish_time                                           2016-02-16\n",
       " authors         Ge, Xing-Yi; Yang, Wei-Hong; Pan, Hong; Zhou, ...\n",
       " url             https://www.ncbi.nlm.nih.gov/pmc/articles/PMC4...\n",
       " topic_dist      [0.000314465416454519, 0.0003144654149732015, ...\n",
       " Name: 6044, dtype: object,\n",
       " cord_uid                                                 4uahwkp8\n",
       " title           Characterisation of the faecal virome of capti...\n",
       " abstract        AbstractBackgroundThe Tasmanian devil is an en...\n",
       " publish_time                                           2018-10-15\n",
       " authors         Rowena Chong; Mang Shi; Catherine E Grueber; E...\n",
       " url                                https://doi.org/10.1101/443457\n",
       " topic_dist      [0.015471709060268738, 0.0003164557045647871, ...\n",
       " Name: 33191, dtype: object,\n",
       " cord_uid                                                 1axsebya\n",
       " title           Hypsugopoxvirus: A Novel Poxvirus Isolated fro...\n",
       " abstract        Interest in bat-related viruses has increased ...\n",
       " publish_time                                           2019-06-19\n",
       " authors         Lelli, Davide; Lavazza, Antonio; Prosperi, Ali...\n",
       " url             https://www.ncbi.nlm.nih.gov/pmc/articles/PMC6...\n",
       " topic_dist      [0.0004950495102281896, 0.0004950495110916623,...\n",
       " Name: 11124, dtype: object,\n",
       " cord_uid                                                 mfvcjkh4\n",
       " title           Prevalence, diversity, and host associations o...\n",
       " abstract        Bartonella infections were investigated in sev...\n",
       " publish_time                                           2017-04-11\n",
       " authors         Urushadze, Lela; Bai, Ying; Osikowicz, Lynn; M...\n",
       " url             https://www.ncbi.nlm.nih.gov/pmc/articles/PMC5...\n",
       " topic_dist      [0.0007352941266800754, 0.0007352941245564557,...\n",
       " Name: 7600, dtype: object,\n",
       " cord_uid                                                 kcatqzgs\n",
       " title           An emerging novel goose astrovirus associated ...\n",
       " abstract        Since the first isolation from human, astrovir...\n",
       " publish_time                                           2018-09-05\n",
       " authors         Zhang, Xinyu; Ren, Dan; Li, Tuofan; Zhou, Huay...\n",
       " url             https://www.ncbi.nlm.nih.gov/pmc/articles/PMC6...\n",
       " topic_dist      [0.0006024096449766925, 0.000602409653248445, ...\n",
       " Name: 9592, dtype: object,\n",
       " cord_uid                                                 04d0koah\n",
       " title           Virome Profiling of Bats from Myanmar by Metag...\n",
       " abstract        Bats are reservoir animals harboring many impo...\n",
       " publish_time                                           2013-04-22\n",
       " authors         He, Biao; Li, Zuosheng; Yang, Fanli; Zheng, Ju...\n",
       " url             https://www.ncbi.nlm.nih.gov/pmc/articles/PMC3...\n",
       " topic_dist      [0.00045871560712379953, 0.0004587156037580832...\n",
       " Name: 3141, dtype: object,\n",
       " cord_uid                                                 txbkg9op\n",
       " title           Highly Pathogenic Swine Getah Virus in Blue Fo...\n",
       " abstract        We isolated Getah virus from infected foxes in...\n",
       " publish_time                                           2019-06-16\n",
       " authors         Shi, Ning; Li, Li-Xia; Lu, Rong-Guang; Yan, Xi...\n",
       " url             https://www.ncbi.nlm.nih.gov/pmc/articles/PMC6...\n",
       " topic_dist      [0.0013888889029177595, 0.0013888889148407104,...\n",
       " Name: 10879, dtype: object]"
      ]
     },
     "execution_count": 28,
     "metadata": {},
     "output_type": "execute_result"
    }
   ],
   "source": [
    "similar_text(1)"
   ]
  },
  {
   "cell_type": "code",
   "execution_count": 29,
   "metadata": {},
   "outputs": [
    {
     "name": "stderr",
     "output_type": "stream",
     "text": [
      "C:\\Users\\brian\\Anaconda3\\lib\\site-packages\\ipykernel_launcher.py:1: SettingWithCopyWarning: \n",
      "A value is trying to be set on a copy of a slice from a DataFrame.\n",
      "Try using .loc[row_indexer,col_indexer] = value instead\n",
      "\n",
      "See the caveats in the documentation: http://pandas.pydata.org/pandas-docs/stable/indexing.html#indexing-view-versus-copy\n",
      "  \"\"\"Entry point for launching an IPython kernel.\n"
     ]
    }
   ],
   "source": [
    "text['topic'] = lda_doc_dist.argmax(axis=1)"
   ]
  },
  {
   "cell_type": "code",
   "execution_count": 30,
   "metadata": {},
   "outputs": [
    {
     "name": "stdout",
     "output_type": "stream",
     "text": [
      "---------There are 1561 Articles in this topic cluster.---------\n",
      "---------There are 2198 Articles in this topic cluster.---------\n",
      "---------There are 1723 Articles in this topic cluster.---------\n",
      "---------There are 3865 Articles in this topic cluster.---------\n",
      "---------There are 3697 Articles in this topic cluster.---------\n",
      "---------There are 1063 Articles in this topic cluster.---------\n",
      "---------There are 2463 Articles in this topic cluster.---------\n",
      "---------There are 3987 Articles in this topic cluster.---------\n",
      "---------There are 2299 Articles in this topic cluster.---------\n",
      "---------There are 4905 Articles in this topic cluster.---------\n",
      "---------There are 1630 Articles in this topic cluster.---------\n",
      "---------There are 2734 Articles in this topic cluster.---------\n",
      "---------There are 2230 Articles in this topic cluster.---------\n",
      "---------There are 2049 Articles in this topic cluster.---------\n",
      "---------There are 1044 Articles in this topic cluster.---------\n",
      "---------There are 1807 Articles in this topic cluster.---------\n",
      "---------There are 397 Articles in this topic cluster.---------\n",
      "---------There are 755 Articles in this topic cluster.---------\n",
      "---------There are 422 Articles in this topic cluster.---------\n",
      "---------There are 270 Articles in this topic cluster.---------\n"
     ]
    }
   ],
   "source": [
    "def paper_by_topic(topic):\n",
    "    print(\"---------There are \" + str(len(text[text['topic'] == topic])) + \" Articles in this topic cluster.---------\")\n",
    "    return text[text['topic'] == topic]['title']\n",
    "\n",
    "for i in text['topic'].unique():\n",
    "    paper_by_topic(i)"
   ]
  },
  {
   "cell_type": "code",
   "execution_count": 31,
   "metadata": {},
   "outputs": [],
   "source": [
    "count_by_topic = text['topic'].value_counts()"
   ]
  },
  {
   "cell_type": "code",
   "execution_count": 32,
   "metadata": {},
   "outputs": [
    {
     "data": {
      "text/plain": [
       "Text(0, 0.5, 'Papers (Qty)')"
      ]
     },
     "execution_count": 32,
     "metadata": {},
     "output_type": "execute_result"
    },
    {
     "data": {
      "image/png": "[encoded data removed]",
      "text/plain": [
       "<Figure size 1440x360 with 1 Axes>"
      ]
     },
     "metadata": {
      "needs_background": "light"
     },
     "output_type": "display_data"
    }
   ],
   "source": [
    "topic_chart = count_by_topic.sort_index().plot(kind = 'bar', title = 'Number of Papers by Topic Cluster', colormap='jet', figsize =(20,5))\n",
    "topic_chart.set_xlabel(\"Topic Number\")\n",
    "topic_chart.set_ylabel(\"Papers (Qty)\")"
   ]
  },
  {
   "cell_type": "markdown",
   "metadata": {},
   "source": [
    "# Visualizations"
   ]
  },
  {
   "cell_type": "code",
   "execution_count": 161,
   "metadata": {},
   "outputs": [],
   "source": [
    "from sklearn.feature_extraction.text import TfidfVectorizer\n",
    "\n",
    "tfidf_vec = TfidfVectorizer(tokenizer = tokenizer, max_df=0.80, min_df=3)\n",
    "X = tfidf_vec.fit_transform(text['abstract'])"
   ]
  },
  {
   "cell_type": "code",
   "execution_count": 162,
   "metadata": {},
   "outputs": [],
   "source": [
    "from sklearn.cluster import KMeans"
   ]
  },
  {
   "cell_type": "code",
   "execution_count": 163,
   "metadata": {},
   "outputs": [],
   "source": [
    "k_means = KMeans(n_clusters = 20)"
   ]
  },
  {
   "cell_type": "code",
   "execution_count": 164,
   "metadata": {},
   "outputs": [
    {
     "data": {
      "text/plain": [
       "KMeans(algorithm='auto', copy_x=True, init='k-means++', max_iter=300,\n",
       "    n_clusters=20, n_init=10, n_jobs=None, precompute_distances='auto',\n",
       "    random_state=None, tol=0.0001, verbose=0)"
      ]
     },
     "execution_count": 164,
     "metadata": {},
     "output_type": "execute_result"
    }
   ],
   "source": [
    "k_means.fit(X)"
   ]
  },
  {
   "cell_type": "code",
   "execution_count": 168,
   "metadata": {},
   "outputs": [],
   "source": [
    "kmeans = k_means.transform(X)"
   ]
  },
  {
   "cell_type": "code",
   "execution_count": 174,
   "metadata": {},
   "outputs": [],
   "source": [
    "y_kmeans = k_means.predict(X)"
   ]
  },
  {
   "cell_type": "code",
   "execution_count": 187,
   "metadata": {},
   "outputs": [],
   "source": [
    "x = X.todense()"
   ]
  },
  {
   "cell_type": "code",
   "execution_count": 408,
   "metadata": {},
   "outputs": [],
   "source": [
    "#tsne = TSNEVisualizer()"
   ]
  },
  {
   "cell_type": "code",
   "execution_count": 410,
   "metadata": {},
   "outputs": [],
   "source": [
    "#tsne.fit(cv, text['topic'])"
   ]
  },
  {
   "cell_type": "code",
   "execution_count": null,
   "metadata": {},
   "outputs": [],
   "source": []
  }
 ],
 "metadata": {
  "kernelspec": {
   "display_name": "Python 3",
   "language": "python",
   "name": "python3"
  },
  "language_info": {
   "codemirror_mode": {
    "name": "ipython",
    "version": 3
   },
   "file_extension": ".py",
   "mimetype": "text/x-python",
   "name": "python",
   "nbconvert_exporter": "python",
   "pygments_lexer": "ipython3",
   "version": "3.7.1"
  }
 },
 "nbformat": 4,
 "nbformat_minor": 2
}
